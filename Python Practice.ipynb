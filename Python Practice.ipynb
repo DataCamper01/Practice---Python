{
 "cells": [
  {
   "cell_type": "code",
   "execution_count": 1,
   "metadata": {},
   "outputs": [],
   "source": [
    "import warnings\n",
    "from collections import OrderedDict\n",
    "import pandas as pd\n",
    "import numpy as np\n",
    "warnings.filterwarnings('ignore')"
   ]
  },
  {
   "cell_type": "code",
   "execution_count": 9,
   "metadata": {},
   "outputs": [
    {
     "data": {
      "text/html": [
       "<div>\n",
       "<style scoped>\n",
       "    .dataframe tbody tr th:only-of-type {\n",
       "        vertical-align: middle;\n",
       "    }\n",
       "\n",
       "    .dataframe tbody tr th {\n",
       "        vertical-align: top;\n",
       "    }\n",
       "\n",
       "    .dataframe thead th {\n",
       "        text-align: right;\n",
       "    }\n",
       "</style>\n",
       "<table border=\"1\" class=\"dataframe\">\n",
       "  <thead>\n",
       "    <tr style=\"text-align: right;\">\n",
       "      <th></th>\n",
       "      <th>學習時間</th>\n",
       "      <th>學習成績</th>\n",
       "    </tr>\n",
       "  </thead>\n",
       "  <tbody>\n",
       "    <tr>\n",
       "      <th>count</th>\n",
       "      <td>20.00000</td>\n",
       "      <td>20.000000</td>\n",
       "    </tr>\n",
       "    <tr>\n",
       "      <th>mean</th>\n",
       "      <td>2.87500</td>\n",
       "      <td>53.700000</td>\n",
       "    </tr>\n",
       "    <tr>\n",
       "      <th>std</th>\n",
       "      <td>1.47902</td>\n",
       "      <td>26.435821</td>\n",
       "    </tr>\n",
       "    <tr>\n",
       "      <th>min</th>\n",
       "      <td>0.50000</td>\n",
       "      <td>10.000000</td>\n",
       "    </tr>\n",
       "    <tr>\n",
       "      <th>25%</th>\n",
       "      <td>1.68750</td>\n",
       "      <td>30.250000</td>\n",
       "    </tr>\n",
       "    <tr>\n",
       "      <th>50%</th>\n",
       "      <td>2.87500</td>\n",
       "      <td>58.500000</td>\n",
       "    </tr>\n",
       "    <tr>\n",
       "      <th>75%</th>\n",
       "      <td>4.06250</td>\n",
       "      <td>75.250000</td>\n",
       "    </tr>\n",
       "    <tr>\n",
       "      <th>max</th>\n",
       "      <td>5.25000</td>\n",
       "      <td>93.000000</td>\n",
       "    </tr>\n",
       "  </tbody>\n",
       "</table>\n",
       "</div>"
      ],
      "text/plain": [
       "           學習時間       學習成績\n",
       "count  20.00000  20.000000\n",
       "mean    2.87500  53.700000\n",
       "std     1.47902  26.435821\n",
       "min     0.50000  10.000000\n",
       "25%     1.68750  30.250000\n",
       "50%     2.87500  58.500000\n",
       "75%     4.06250  75.250000\n",
       "max     5.25000  93.000000"
      ]
     },
     "execution_count": 9,
     "metadata": {},
     "output_type": "execute_result"
    }
   ],
   "source": [
    "examDict={'學習時間':list(np.arange(0.5,5.5,0.25)),\n",
    "          '學習成績':[10,  22,  13,  43,  20,  22,  33,  50,  62,  \n",
    "              48,  55,  75,  62,  73,  81,  76,  64,  82,  90,  93]}\n",
    "examOrderedDict=OrderedDict(examDict)\n",
    "examDf = pd.DataFrame(examOrderedDict)\n",
    "examDf.head(3)\n",
    "#檢視資料描述統計資訊\n",
    "examDf.describe()"
   ]
  },
  {
   "cell_type": "code",
   "execution_count": 11,
   "metadata": {},
   "outputs": [],
   "source": [
    "exam_X=examDf['學習時間']\n",
    "exam_y=examDf['學習成績']"
   ]
  },
  {
   "cell_type": "markdown",
   "metadata": {},
   "source": [
    "import matplotlib.pyplot as plt\n",
    "#散點圖\n",
    "plt.scatter(exam_X,exam_y,color='b',label='考試資料')\n",
    "#橫縱軸標籤\n",
    "plt.legend(loc=2)\n",
    "plt.xlabel('學習時間')\n",
    "plt.ylabel('學習成績')\n",
    "plt.show()"
   ]
  },
  {
   "cell_type": "code",
   "execution_count": 13,
   "metadata": {},
   "outputs": [
    {
     "data": {
      "image/png": "[encoded data removed]",
      "text/plain": [
       "<Figure size 432x288 with 1 Axes>"
      ]
     },
     "metadata": {
      "needs_background": "light"
     },
     "output_type": "display_data"
    }
   ],
   "source": [
    "import matplotlib.pyplot as plt\n",
    "#散點圖\n",
    "plt.scatter(exam_X,exam_y,color='b',label='考試資料')\n",
    "#橫縱軸標籤\n",
    "plt.legend(loc=2)\n",
    "plt.xlabel('學習時間')\n",
    "plt.ylabel('學習成績')\n",
    "plt.show()"
   ]
  },
  {
   "cell_type": "code",
   "execution_count": 14,
   "metadata": {},
   "outputs": [
    {
     "name": "stdout",
     "output_type": "stream",
     "text": [
      "        學習時間    學習成績\n",
      "學習時間  1.0000  0.9379\n",
      "學習成績  0.9379  1.0000\n"
     ]
    }
   ],
   "source": [
    "rDf=examDf.corr()\n",
    "print(rDf)"
   ]
  },
  {
   "cell_type": "code",
   "execution_count": 30,
   "metadata": {},
   "outputs": [
    {
     "name": "stdout",
     "output_type": "stream",
     "text": [
      "訓練集大小 (16,) (16,)\n",
      "測試集大小 (4,) (4,)\n"
     ]
    }
   ],
   "source": [
    "\n",
    "from sklearn.model_selection import train_test_split\n",
    "\n",
    "#建立訓練集和測試集資料\n",
    "train_X,test_X,train_y,test_y =train_test_split(exam_X,exam_y,train_size=0.8)\n",
    "#輸出訓練集和測試集資料大小\n",
    "print('訓練集大小',train_X.shape,train_y.shape)\n",
    "print('測試集大小',test_X.shape,test_y.shape)"
   ]
  },
  {
   "cell_type": "code",
   "execution_count": 31,
   "metadata": {},
   "outputs": [],
   "source": [
    "from sklearn.linear_model import LinearRegression\n",
    "#建立模型\n",
    "model=LinearRegression()"
   ]
  },
  {
   "cell_type": "code",
   "execution_count": 32,
   "metadata": {},
   "outputs": [
    {
     "name": "stdout",
     "output_type": "stream",
     "text": [
      "訓練集大小 (16, 1) (16, 1)\n",
      "測試集大小 (4, 1) (4, 1)\n"
     ]
    },
    {
     "data": {
      "text/plain": [
       "array([[4.75],\n",
       "       [4.5 ],\n",
       "       [2.25],\n",
       "       [3.75],\n",
       "       [5.  ],\n",
       "       [2.5 ],\n",
       "       [1.  ],\n",
       "       [3.  ],\n",
       "       [5.25],\n",
       "       [0.75],\n",
       "       [3.5 ],\n",
       "       [4.  ],\n",
       "       [1.5 ],\n",
       "       [3.25],\n",
       "       [1.25],\n",
       "       [0.5 ]])"
      ]
     },
     "execution_count": 32,
     "metadata": {},
     "output_type": "execute_result"
    }
   ],
   "source": [
    "train_X=train_X.values.reshape(-1,1)\n",
    "train_y=train_y.values.reshape(-1,1)\n",
    "test_X=test_X.values.reshape(-1,1)\n",
    "test_y=test_y.values.reshape(-1,1)\n",
    "print('訓練集大小',train_X.shape,train_y.shape)\n",
    "print('測試集大小',test_X.shape,test_y.shape)\n",
    "model.fit(train_X,train_y)\n",
    "train_X\n"
   ]
  },
  {
   "cell_type": "code",
   "execution_count": 27,
   "metadata": {},
   "outputs": [
    {
     "name": "stdout",
     "output_type": "stream",
     "text": [
      "模型得分為 0.7531\n"
     ]
    }
   ],
   "source": [
    "print('模型得分為',round(model.score(test_X,test_y),4))"
   ]
  },
  {
   "cell_type": "code",
   "execution_count": 22,
   "metadata": {},
   "outputs": [
    {
     "name": "stdout",
     "output_type": "stream",
     "text": [
      "模型的迴歸方程是:y=7.079268+16.016260 x\n"
     ]
    },
    {
     "data": {
      "image/png": "[encoded data removed]",
      "text/plain": [
       "<Figure size 432x288 with 1 Axes>"
      ]
     },
     "metadata": {
      "needs_background": "light"
     },
     "output_type": "display_data"
    }
   ],
   "source": [
    "#模型擬合線（模型的迴歸方程）y=a+bx\n",
    "a=model.intercept_\n",
    "b=model.coef_\n",
    "print('模型的迴歸方程是:y=%f+%f x'%(a,b))\n",
    "\n",
    "\n",
    "#繪製擬合曲線\n",
    "plt.scatter(train_X,train_y,color='b',label='train data')\n",
    "test_y_pred=model.predict(test_X)\n",
    "plt.plot(test_X,test_y_pred,color='black',label='best line')\n",
    "#測試集資料的散點圖\n",
    "plt.scatter(test_X,test_y,color='r',label='test data')\n",
    "#座標軸\n",
    "plt.xlabel('學習時間')\n",
    "plt.ylabel('學習成績')\n",
    "plt.legend(loc=2)\n",
    "plt.show()"
   ]
  },
  {
   "cell_type": "code",
   "execution_count": 41,
   "metadata": {},
   "outputs": [
    {
     "name": "stdout",
     "output_type": "stream",
     "text": [
      "True\n"
     ]
    }
   ],
   "source": [
    "def triangle(a , b , c) :\n",
    "    if a > b and a > c:\n",
    "        hypo = a * a\n",
    "        angle = b * b + c * c\n",
    "        if hypo == angle :\n",
    "             print(True)\n",
    "        else: print(False)\n",
    "    elif b > c and b > a :\n",
    "        hypo = b * b\n",
    "        angle = a * a + c * c\n",
    "        if hypo == angle :\n",
    "             print(True)\n",
    "        else: print(False)\n",
    "    elif c > a and c > b :\n",
    "        hypo = c * c\n",
    "        angle = a * a + b * b\n",
    "        if hypo == angle :\n",
    "            print(True)  \n",
    "        else: print(False)\n",
    "    else: print(False)\n",
    "    \n",
    "triangle(12 , 13 , 5)"
   ]
  },
  {
   "cell_type": "code",
   "execution_count": 43,
   "metadata": {},
   "outputs": [
    {
     "name": "stdout",
     "output_type": "stream",
     "text": [
      "3\n",
      "3\n",
      "3\n",
      "False\n"
     ]
    }
   ],
   "source": [
    "a = int(input())\n",
    "b = int(input())\n",
    "c = int(input())\n",
    "  \n",
    "if a > b and a > c:\n",
    "    hypo = a * a\n",
    "    angle = b * b + c * c\n",
    "    if hypo == angle :\n",
    "         print(True)\n",
    "    else: print(False)\n",
    "elif b > c and b > a :\n",
    "    hypo = b * b\n",
    "    angle = a * a + c * c\n",
    "    if hypo == angle :\n",
    "         print(True)\n",
    "    else: print(False)\n",
    "elif c > a and c > b :\n",
    "    hypo = c * c\n",
    "    angle = a * a + b * b\n",
    "    if hypo == angle :\n",
    "        print(True)  \n",
    "    else: print(False)\n",
    "else: print(False)"
   ]
  },
  {
   "cell_type": "code",
   "execution_count": 44,
   "metadata": {},
   "outputs": [
    {
     "data": {
      "text/plain": [
       "3"
      ]
     },
     "execution_count": 44,
     "metadata": {},
     "output_type": "execute_result"
    }
   ],
   "source": [
    "max(a, b, c)"
   ]
  },
  {
   "cell_type": "code",
   "execution_count": 45,
   "metadata": {},
   "outputs": [],
   "source": [
    "import math"
   ]
  },
  {
   "cell_type": "code",
   "execution_count": 4,
   "metadata": {},
   "outputs": [
    {
     "name": "stdout",
     "output_type": "stream",
     "text": [
      "11999\n",
      "29\n"
     ]
    }
   ],
   "source": [
    "n = int(input())\n",
    "s = 0\n",
    "while n:\n",
    "        s += n % 10\n",
    "        n //= 10\n",
    "print(s)"
   ]
  },
  {
   "cell_type": "code",
   "execution_count": 12,
   "metadata": {},
   "outputs": [
    {
     "name": "stdout",
     "output_type": "stream",
     "text": [
      "2359\n",
      "2359\n"
     ]
    }
   ],
   "source": [
    "a = input('')\n",
    "b = input('')\n",
    "c = input('')\n",
    "\n",
    "lst1 = a.split(\":\")\n",
    "lst2 = b.split(\":\")\n"
   ]
  },
  {
   "cell_type": "code",
   "execution_count": 24,
   "metadata": {},
   "outputs": [
    {
     "name": "stdout",
     "output_type": "stream",
     "text": [
      "15:00\n",
      "23:59\n",
      "Y\n",
      "180\n"
     ]
    }
   ],
   "source": [
    "a = input('')\n",
    "b = input('')\n",
    "c = input('')\n",
    "\n",
    "lst = a.split(\":\")\n",
    "\n",
    "lst_out  = []\n",
    "for item in lst :\n",
    "    item = int(item)\n",
    "    lst_out.append(item)\n",
    "\n",
    "\n",
    "lst2 = b.split(\":\")\n",
    "lst_out2  = []\n",
    "for item in lst2 :\n",
    "    item = int(item)\n",
    "    lst_out2.append(item)\n",
    "\n",
    "\n",
    "h = lst_out2[0] - lst_out[0]\n",
    "m = lst_out2[1] - lst_out[1] \n",
    "\n",
    "if c == 'Y':\n",
    "    if h < 1 and m < 30:\n",
    "        print(0)\n",
    "    elif (h * 60 + m) % 30 > 0 :\n",
    "        fee = int((h * 60 + m)/30) * 10 + 10\n",
    "        print(fee)\n",
    "    else :\n",
    "        fee = int((h * 60 + m)/30) * 10 \n",
    "        print(fee)\n",
    "elif c == 'N':\n",
    "    if h < 1 and m == 0 :\n",
    "        print(0)\n",
    "    elif h < 1 and m < 30 and m > 0 :\n",
    "        print(20)\n",
    "    elif (h * 60 + m) % 30 > 0 :\n",
    "        fee = int((h * 60 + m)/30) * 20 + 20\n",
    "        print(fee)\n",
    "    else :\n",
    "        fee = int((h * 60 + m)/30) * 20 \n",
    "        print(fee)"
   ]
  },
  {
   "cell_type": "code",
   "execution_count": 22,
   "metadata": {},
   "outputs": [
    {
     "data": {
      "text/plain": [
       "6"
      ]
     },
     "execution_count": 22,
     "metadata": {},
     "output_type": "execute_result"
    }
   ],
   "source": [
    "int(181 / 30)\n"
   ]
  },
  {
   "cell_type": "code",
   "execution_count": 8,
   "metadata": {},
   "outputs": [
    {
     "name": "stdout",
     "output_type": "stream",
     "text": [
      "2010 11 11\n",
      "2020 11 11\n",
      "3653\n"
     ]
    }
   ],
   "source": [
    "from datetime import date\n",
    "from datetime import datetime \n",
    "\n",
    "a = input('')\n",
    "b = input('')\n",
    "\n",
    "lst = a.split(\" \")\n",
    "a1 = int(lst[0])\n",
    "a2 = int(lst[1])\n",
    "a3 = int(lst[2])\n",
    "\n",
    "lst2 = b.split(\" \")\n",
    "b1 = int(lst2[0])\n",
    "b2 = int(lst2[1])\n",
    "b3 = int(lst2[2])\n",
    "\n",
    "d1 = date(a1, a2, a3)\n",
    "d2 = date(b1, b2 ,b3)\n",
    "\n",
    "diff = d2 - d1\n",
    "print(abs(diff.days))\n"
   ]
  },
  {
   "cell_type": "code",
   "execution_count": 69,
   "metadata": {},
   "outputs": [
    {
     "name": "stdout",
     "output_type": "stream",
     "text": [
      "Q\n",
      "24042111\n",
      "male\n"
     ]
    }
   ],
   "source": [
    "a = input('')\n",
    "b = input('')\n",
    "\n",
    "dic = dict(zip(['A', 'B', 'C', 'D' , 'E' , 'F' , 'G' , 'H', 'I', 'J', 'K', 'L', 'M', 'N','O','P','Q','R','S','T','U','V','W','X','Y','Z'],\n",
    "         [10, 11, 12, 13, 14, 15 , 16, 17 , 34, 18, 19, 20, 21, 22, 35, 23, 24, 25, 26, 27, 28 ,29 , 32, 30, 31, 33])) \n",
    "value = str(dic[a])\n",
    "\n",
    "all_val = value + b\n",
    "lst = list(all_val)\n",
    "lst_out = []\n",
    "multi = [1,9,7,6,5,4,3,2,1,1]\n",
    "\n",
    "for i in range( len(all_val) ) :\n",
    "    v1 = lst[i]\n",
    "    v1 = int(v1)\n",
    "    v2 = multi[i]\n",
    "    lst_out.append(v1 * v2)\n",
    "\n",
    "sum_num = sum(lst_out)\n",
    "\n",
    "if (sum_num + 2 * 8) % 10 == 0:\n",
    "    print('Female')\n",
    "else:\n",
    "    print('Male')"
   ]
  },
  {
   "cell_type": "code",
   "execution_count": null,
   "metadata": {},
   "outputs": [],
   "source": [
    "for i in range(lst) :\n",
    "    v1 = lst[i]\n",
    "    v1 = int(v1)\n",
    "    v2 = multi[i]\n",
    "    v2 = int(multi)\n",
    "    lst_out.append(v1 * v2)\n",
    "\n",
    "print(lst_out)"
   ]
  },
  {
   "cell_type": "code",
   "execution_count": 64,
   "metadata": {},
   "outputs": [
    {
     "name": "stdout",
     "output_type": "stream",
     "text": [
      "range(0, 4)\n"
     ]
    }
   ],
   "source": [
    "print(range(4))"
   ]
  },
  {
   "cell_type": "code",
   "execution_count": 5,
   "metadata": {},
   "outputs": [
    {
     "name": "stdout",
     "output_type": "stream",
     "text": [
      "2015-01-12\n"
     ]
    }
   ],
   "source": [
    "import datetime\n",
    "\n",
    "print(datetime.date(2015, 1, 12))"
   ]
  },
  {
   "cell_type": "code",
   "execution_count": 9,
   "metadata": {},
   "outputs": [
    {
     "name": "stdout",
     "output_type": "stream",
     "text": [
      "ll cts\n"
     ]
    }
   ],
   "source": [
    "def disemvowel(word):\n",
    "    vowels = \"aeiouAEIOU\";\n",
    "\n",
    "    for char in vowels:\n",
    "        word = word.replace(char, \"\")\n",
    "\n",
    "    return word\n",
    "\n",
    "print(disemvowel('all cats'))"
   ]
  },
  {
   "cell_type": "code",
   "execution_count": 15,
   "metadata": {
    "scrolled": true
   },
   "outputs": [
    {
     "ename": "SyntaxError",
     "evalue": "invalid syntax (<ipython-input-15-782d8d7ef648>, line 3)",
     "output_type": "error",
     "traceback": [
      "\u001b[1;36m  File \u001b[1;32m\"<ipython-input-15-782d8d7ef648>\"\u001b[1;36m, line \u001b[1;32m3\u001b[0m\n\u001b[1;33m    for char not in vowels:\u001b[0m\n\u001b[1;37m               ^\u001b[0m\n\u001b[1;31mSyntaxError\u001b[0m\u001b[1;31m:\u001b[0m invalid syntax\n"
     ]
    }
   ],
   "source": [
    "def disemvowel(word):\n",
    "    vowels = list(\"aeiouAEIOU\");\n",
    "    for char not in vowels:\n",
    "        word = word.replace(char, \"\")\n",
    "\n",
    "    return word\n",
    "\n",
    "print(disemvowel('all cats'))"
   ]
  },
  {
   "cell_type": "markdown",
   "metadata": {},
   "source": [
    "**make it draw a triangle shape like this:**\n",
    "\n",
    " 111<br>\n",
    " 11<br>\n",
    " 1                                     "
   ]
  },
  {
   "cell_type": "code",
   "execution_count": 4,
   "metadata": {
    "scrolled": true
   },
   "outputs": [
    {
     "name": "stdout",
     "output_type": "stream",
     "text": [
      "111\n",
      "11\n",
      "1\n"
     ]
    }
   ],
   "source": [
    "i = 3\n",
    "while i > 0 :\n",
    "    print('1'* i)\n",
    "    i -= 1 "
   ]
  },
  {
   "cell_type": "code",
   "execution_count": 7,
   "metadata": {},
   "outputs": [
    {
     "name": "stdout",
     "output_type": "stream",
     "text": [
      "ass\n",
      "It's not Palindrome\n"
     ]
    }
   ],
   "source": [
    "a =  input('')\n",
    "\n",
    "if list(a)[0] == list(a)[-1]:\n",
    "    print(\"It's Palindrome\")\n",
    "else:\n",
    "    print(\"It's not Palindrome\")\n",
    "\n",
    "\n"
   ]
  },
  {
   "cell_type": "code",
   "execution_count": 14,
   "metadata": {},
   "outputs": [
    {
     "data": {
      "text/plain": [
       "'gnirts'"
      ]
     },
     "execution_count": 14,
     "metadata": {},
     "output_type": "execute_result"
    }
   ],
   "source": [
    "'string'[::-1]\n",
    "# 從第幾個字母開始反轉"
   ]
  },
  {
   "cell_type": "code",
   "execution_count": 17,
   "metadata": {},
   "outputs": [
    {
     "name": "stdout",
     "output_type": "stream",
     "text": [
      "[4, 16, 36, 64, 100]\n"
     ]
    }
   ],
   "source": [
    "# 單行迴圈練習\n",
    "# 取出list裡的偶數數字\n",
    "\n",
    "lst = [1, 4, 9, 16, 25, 36, 49, 64, 81, 100]\n",
    "even_element = [element for element in lst if element%2 == 0 ]\n",
    "\n",
    "print(even_element)\n"
   ]
  },
  {
   "cell_type": "markdown",
   "metadata": {},
   "source": [
    "**Make a two-player Rock-Paper-Scissors game. <br>** \n",
    "1. Ask for player plays (using input), compare them, print out a message of congratulations to the winner\n",
    "2. ask if the players want to start a new game)"
   ]
  },
  {
   "cell_type": "code",
   "execution_count": 18,
   "metadata": {},
   "outputs": [
    {
     "name": "stdout",
     "output_type": "stream",
     "text": [
      "Please pick one:\n",
      "            rock\n",
      "            scissors\n",
      "            paper\n",
      "Player a: rock\n",
      "Player b: rock\n",
      "Draw.Please continue.\n",
      "\n",
      "Player a: rock\n",
      "Player b: paper\n",
      "player b wins.\n",
      "Do you want to play another game, yes or no?\n",
      "no\n",
      "game over.\n"
     ]
    }
   ],
   "source": [
    "print('''Please pick one:\n",
    "            rock\n",
    "            scissors\n",
    "            paper''')\n",
    "\n",
    "while True:\n",
    "    game_dict = {'rock': 1, 'scissors': 2, 'paper': 3}\n",
    "    player_a = str(input(\"Player a: \"))\n",
    "    player_b = str(input(\"Player b: \"))\n",
    "    a = game_dict.get(player_a)\n",
    "    b = game_dict.get(player_b)\n",
    "    dif = a - b\n",
    "\n",
    "    if dif in [-1, 2]:\n",
    "        print('player a wins.')\n",
    "        if str(input('Do you want to play another game, yes or no?\\n')) == 'yes':\n",
    "            continue\n",
    "        else:\n",
    "            print('game over.')\n",
    "            break\n",
    "    elif dif in [-2, 1]:\n",
    "        print('player b wins.')\n",
    "        if str(input('Do you want to play another game, yes or no?\\n')) == 'yes':\n",
    "            continue\n",
    "        else:\n",
    "            print('game over.')\n",
    "            break\n",
    "    else:\n",
    "        print('Draw.Please continue.')\n",
    "        print('')"
   ]
  },
  {
   "cell_type": "markdown",
   "metadata": {},
   "source": [
    "* Generate a random number between 1 and 9 (including 1 and 9). Ask the user to guess the number, then tell them whether they guessed too low, too high, or exactly right.\n",
    "\n",
    "1. Keep the game going until the user types “exit”\n",
    "2. Keep track of how many guesses the user has taken, and when the game ends, print this out."
   ]
  },
  {
   "cell_type": "code",
   "execution_count": null,
   "metadata": {},
   "outputs": [],
   "source": [
    "import random as rand\n",
    "\n",
    "\n",
    "ans = rand.randint(1, 9)\n",
    "count = 0\n",
    "\n",
    "while True:\n",
    "    num = int(input('guess a number between 1 - 9 \\n' ))\n",
    "    if num == ans :\n",
    "        count += 1\n",
    "        print('exactly right')\n",
    "        print('you guessed ' + str(count) + ' times')\n",
    "        con = input('Do you want to continue ? (y / n) \\n') \n",
    "        if con == 'y' :\n",
    "                count = 0\n",
    "                continue\n",
    "        else :\n",
    "                print('good job ! hope you have fun') ;\n",
    "                break\n",
    "    \n",
    "    elif num > ans :\n",
    "        count += 1\n",
    "        print('too high')\n",
    "        \n",
    "    else :\n",
    "        count += 1\n",
    "        print('too low')\n",
    "        \n",
    "\n"
   ]
  },
  {
   "cell_type": "markdown",
   "metadata": {},
   "source": [
    "**write a program that returns a list that contains only the elements that are common between the lists (without duplicates). Make sure your program works on two lists of different sizes.**\n"
   ]
  },
  {
   "cell_type": "code",
   "execution_count": 1,
   "metadata": {},
   "outputs": [],
   "source": [
    "import random\n",
    "a = random.sample(range(1,30), 12)\n",
    "b = random.sample(range(1,30), 16)\n",
    "# set 會創造一個不重複的元素集合\n",
    "result = [i for i in set(a) if i in b]"
   ]
  },
  {
   "cell_type": "markdown",
   "metadata": {},
   "source": [
    "**make a function test if a certain number is primality**"
   ]
  },
  {
   "cell_type": "code",
   "execution_count": 58,
   "metadata": {},
   "outputs": [
    {
     "name": "stdout",
     "output_type": "stream",
     "text": [
      "Please enter a non-negative integer :\n",
      ">>9\n",
      "now test number 2\n",
      "now test number 3\n",
      "The number can be 3 devided.\n",
      "The number \"9\" is not prime\n"
     ]
    }
   ],
   "source": [
    "\n",
    "a = int(input('Please enter a non-negative integer :' + \"\\n\" + \">>\"))\n",
    "\n",
    "def is_prime(num):\n",
    "    import math\n",
    "    if num <= 1:\n",
    "        print('The number \"' + str(num) + '\" is not prime.')\n",
    "    elif num == 2 or num == 3:\n",
    "        print('The number \"' + str(num) + '\" is prime.')\n",
    "    else :\n",
    "        for n in range(2 , (int(math.sqrt(num)) + 2)) :\n",
    "            print('now test number '+ str(n))\n",
    "            if n == (int(math.sqrt(num)) + 1) :\n",
    "                sol = 'is prime'\n",
    "                print('The number \"' + str(num) + '\" ' + sol)\n",
    "            elif num % n == 0 :\n",
    "                sol = 'is not prime'\n",
    "                print('The number can be ' + str(n) + ' devided.')\n",
    "                print('The number \"' + str(num) + '\" ' + sol)\n",
    "                break\n",
    "is_prime( a )\n",
    "\n"
   ]
  },
  {
   "cell_type": "markdown",
   "metadata": {},
   "source": [
    "**Write a program that takes a list of numbers (for example, a = [5, 10, 15, 20, 25]) and makes a new list of only the first and last elements of the given list. For practice, write this code inside a function.**"
   ]
  },
  {
   "cell_type": "code",
   "execution_count": 60,
   "metadata": {},
   "outputs": [
    {
     "name": "stdout",
     "output_type": "stream",
     "text": [
      "[5, 25]\n"
     ]
    }
   ],
   "source": [
    "a = '[5, 10, 15, 20, 25]'\n",
    "b = list(a)\n",
    "type(a)\n",
    "new_lst = [a[0], a[-1]]\n",
    "print(new_lst)"
   ]
  },
  {
   "cell_type": "markdown",
   "metadata": {},
   "source": [
    "**Write a program that asks the user how many Fibonnaci numbers to generate and then generates them. Take this opportunity to think about how you can use functions. Make sure to ask the user to enter the number of numbers in the sequence to generate**"
   ]
  },
  {
   "cell_type": "code",
   "execution_count": 75,
   "metadata": {},
   "outputs": [
    {
     "name": "stdout",
     "output_type": "stream",
     "text": [
      "how many fibonacci numbers do you want to generate?\n",
      ">> 0\n",
      "[1]\n"
     ]
    }
   ],
   "source": [
    "c = int(input('how many fibonacci numbers do you want to generate?' + '\\n' + '>> '))\n",
    "\n",
    "def fibon(num):\n",
    "    lst = [0,1]\n",
    "    for i in range(1, num ) :\n",
    "        lst.append(lst[-1] + lst[-2])\n",
    "    lst.remove(0)\n",
    "    print(lst)\n",
    "\n",
    "fibon(c)\n",
    "\n",
    "\n",
    "\n"
   ]
  },
  {
   "cell_type": "markdown",
   "metadata": {},
   "source": [
    "**Write a program (function!) that takes a list and returns a new list that contains all the elements of the first list minus all the duplicates.**\n",
    "\n",
    "* Write two different functions to do this - one using a loop and constructing a list, and another using sets.\n"
   ]
  },
  {
   "cell_type": "code",
   "execution_count": 98,
   "metadata": {},
   "outputs": [
    {
     "name": "stdout",
     "output_type": "stream",
     "text": [
      "[2, 3, 4, 6, 8] [2, 3, 4, 6, 8]\n",
      "--dup_1 Use 0.009000062942504883 seconds ---\n",
      "--dup_2 Use 0.9129998683929443 seconds ---\n"
     ]
    }
   ],
   "source": [
    "# function 1\n",
    "\n",
    "def dup_1( lst ) :\n",
    "    return(list(set(lst)))\n",
    "\n",
    "\n",
    "\n",
    "# funciton 2\n",
    "\n",
    "def dup_2( lst ) :\n",
    "    a = []\n",
    "    [a.append(item) for item in lst if item not in a]\n",
    "    return(a)\n",
    "\n",
    "\n",
    "l = [2,2,3,3,4,6,8]\n",
    "\n",
    "\n",
    "print(dup_2(l), dup_1(l))\n",
    "\n",
    "import random\n",
    "\n",
    "l = random.choices(range(150), k = 900000)\n",
    "\n",
    "import time\n",
    "start_time = time.time()\n",
    "dup_1(l)\n",
    "print(\"--dup_1 Use %s seconds ---\" % (time.time() - start_time))\n",
    "\n",
    "start_time = time.time()\n",
    "dup_2(l)\n",
    "print(\"--dup_2 Use %s seconds ---\" % (time.time() - start_time))\n",
    "\n",
    "# 在90萬個元素的list, set 版的效能比 for list comprehension版的效能好0.9秒\n",
    "\n"
   ]
  },
  {
   "cell_type": "markdown",
   "metadata": {},
   "source": [
    "**Calculate Pi (Using Basel method deal)"
   ]
  },
  {
   "cell_type": "code",
   "execution_count": 85,
   "metadata": {},
   "outputs": [
    {
     "name": "stdout",
     "output_type": "stream",
     "text": [
      "--dup_1 Use 19.471052646636963 seconds ---\n",
      "--dup_2 Use 0.0 seconds ---\n"
     ]
    }
   ],
   "source": [
    "## method 2 : using for loop to create  \n",
    "\n",
    "def giveme_Pi_for(digit):\n",
    "    import math\n",
    "    digit = pow(10 , digit + 1)\n",
    "    lst = []\n",
    "    for i in range(1, digit + 1):\n",
    "        item = 1 /(i * i)\n",
    "        lst.append(item)\n",
    "    \n",
    "    pi = math.sqrt(sum(lst) * 6 )\n",
    "    return(pi)\n",
    "    \n",
    "    \n",
    "## method 2 : using numpy.array to create     \n",
    "\n",
    "\n",
    "def giveme_Pi_array(digit):\n",
    "    import math\n",
    "    import numpy as np\n",
    "    ary = np.array(range(1 , (digit + 1) ) )  \n",
    "    pi =  math.sqrt(sum(1 / (ary ** 2) ) * 6 ) \n",
    "    return(ary)\n",
    "\n",
    "## 在七位數的狀況，時間差19秒， 呈指數遞增\n",
    "\n",
    "dig = 7\n",
    "                   \n",
    "import time\n",
    "start_time = time.time()\n",
    "giveme_Pi_for(dig)\n",
    "print(\"--dup_1 Use %s seconds ---\" % (time.time() - start_time))\n",
    "\n",
    "start_time = time.time()\n",
    "giveme_Pi_array(dig)\n",
    "print(\"--dup_2 Use %s seconds ---\" % (time.time() - start_time))"
   ]
  },
  {
   "cell_type": "code",
   "execution_count": 81,
   "metadata": {},
   "outputs": [
    {
     "data": {
      "text/plain": [
       "2.65818965128943"
      ]
     },
     "execution_count": 81,
     "metadata": {},
     "output_type": "execute_result"
    }
   ],
   "source": []
  },
  {
   "cell_type": "code",
   "execution_count": null,
   "metadata": {},
   "outputs": [],
   "source": []
  },
  {
   "cell_type": "code",
   "execution_count": 77,
   "metadata": {},
   "outputs": [
    {
     "name": "stdout",
     "output_type": "stream",
     "text": [
      "[1 2 3]\n"
     ]
    }
   ],
   "source": []
  },
  {
   "cell_type": "code",
   "execution_count": null,
   "metadata": {},
   "outputs": [],
   "source": []
  }
 ],
 "metadata": {
  "kernelspec": {
   "display_name": "Python 3",
   "language": "python",
   "name": "python3"
  },
  "language_info": {
   "codemirror_mode": {
    "name": "ipython",
    "version": 3
   },
   "file_extension": ".py",
   "mimetype": "text/x-python",
   "name": "python",
   "nbconvert_exporter": "python",
   "pygments_lexer": "ipython3",
   "version": "3.7.3"
  }
 },
 "nbformat": 4,
 "nbformat_minor": 2
}
